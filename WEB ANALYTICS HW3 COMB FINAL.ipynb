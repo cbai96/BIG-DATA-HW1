{
 "cells": [
  {
   "cell_type": "markdown",
   "id": "46f0bd83",
   "metadata": {},
   "source": [
    "This homework has been completed in colaboration with:\n",
    "Ekaterina Kolesnikova\n",
    "Amol Kodan\n",
    "Camellia Bai "
   ]
  },
  {
   "cell_type": "markdown",
   "id": "244f7351",
   "metadata": {},
   "source": [
    "link to download our training data: \n",
    "https://drive.google.com/file/d/1nTxTNteV63ewEbye2l99gIsMWf2aAZeR/view?usp=sharing\n"
   ]
  },
  {
   "cell_type": "code",
   "execution_count": 2,
   "id": "aa7bb066",
   "metadata": {},
   "outputs": [],
   "source": [
    "\n",
    "import sklearn\n",
    "import seaborn\n",
    "import pandas as pd\n",
    "import numpy as np\n",
    "import matplotlib as plt\n",
    "import seaborn as sns\n",
    "import matplotlib.pylab as plt\n",
    "%matplotlib inline\n",
    "\n",
    "# Import decision trees and logistic regression\n",
    "from sklearn.tree import DecisionTreeClassifier\n",
    "from sklearn.linear_model import LogisticRegression\n",
    "\n",
    "# Import train, test, and evaluation functions\n",
    "from sklearn.metrics import accuracy_score\n",
    "from sklearn.model_selection import train_test_split\n",
    "from sklearn.model_selection import cross_val_score"
   ]
  },
  {
   "cell_type": "code",
   "execution_count": 1,
   "id": "e13fbeea",
   "metadata": {
    "scrolled": true
   },
   "outputs": [
    {
     "name": "stdout",
     "output_type": "stream",
     "text": [
      "[['/m/us_2019'], ['/m/get_out'], ['/m/the_cabinet_of_dr_caligari'], ['/m/a_quiet_place_2018'], ['/m/the_invisible_man_2020'], ['/m/nosferatu'], ['/m/1011615-king_kong'], ['/m/psycho'], ['/m/bride_of_frankenstein'], ['/m/the_babadook'], ['/m/1007818-frankenstein'], ['/m/the_lighthouse_2019'], ['/m/it_follows'], ['/m/hereditary'], ['/m/let_the_right_one_in'], ['/m/freaks'], ['/m/1009113-halloween'], ['/m/1000617-aliens'], ['/m/night_of_the_living_dead'], ['/m/silence_of_the_lambs'], ['/m/rosemarys_baby'], ['/m/eyes_without_a_face_1962'], ['/m/pans_labyrinth'], ['/m/repulsion'], ['/m/host_2020'], ['/m/possessor_uncut'], ['/m/the_cabin_in_the_woods'], ['/m/the_witch_2016'], ['/m/1010695-invisible_man'], ['/m/dont_look_now'], ['/m/it_2017'], ['/m/relic'], ['/m/1211532-friends_of_eddie_coyle'], ['/m/1002448-birds'], ['/m/young_frankenstein'], ['/m/ready_or_not_2019'], ['/m/the_vanishing'], ['/m/drag_me_to_hell'], ['/m/a_girl_walks_home_alone_at_night'], ['/m/godzilla_1956'], ['/m/1007600-fly'], ['/m/1010030-house_of_wax'], ['/m/1006234-dracula'], ['/m/midsommar'], ['/m/1003625-carrie'], ['/m/nosferatu_the_vampyre'], ['/m/the-evil-dead'], ['/m/evil_dead_2_dead_by_dawn'], ['/m/1099622-innocents'], ['/m/la_llorona_2019'], ['/m/the_loved_ones_2012'], ['/m/1007602-fly'], ['/m/spontaneous'], ['/m/1005405-dead_of_night'], ['/m/nightmare_on_elm_street'], ['/m/1021186-them'], ['/m/the_love_witch'], ['/m/harpoon_2019'], ['/m/room_237_2012'], ['/m/werckmeister_harmonies'], ['/m/1020662-suspiria'], ['/m/reanimator'], ['/m/shaun_of_the_dead'], ['/m/train_to_busan'], ['/m/1010679-invasion_of_the_body_snatchers'], ['/m/the_host_2007'], ['/m/1005339-dawn_of_the_dead'], ['/m/it_comes_at_night'], ['/m/zombieland'], ['/m/in_fabric'], ['/m/dont_breathe_2016'], ['/m/the_mortuary_collection'], ['/m/phantom_of_the_opera_1925'], ['/m/the_endless'], ['/m/what_ever_happened_to_baby_jane'], ['/m/cam'], ['/m/wolf_man'], ['/m/1021242-thing'], ['/m/we_are_still_here'], ['/m/upgrade_2018'], ['/m/eraserhead'], ['/m/1021112-texas_chainsaw_massacre'], ['/m/halloween_2018'], ['/m/horror_of_dracula'], ['/m/the_witches'], ['/m/arachnophobia'], ['/m/1014370-mummy'], ['/m/1006207-dr_jekyll_and_mr_hyde'], ['/m/frankenweenie_2012'], ['/m/let_me_in'], ['/m/the_dark_and_the_wicked'], ['/m/frenzy'], ['/m/misery'], ['/m/kwaidan'], ['/m/island_of_lost_souls_1933'], ['/m/color_out_of_space'], ['/m/the_conjuring'], ['/m/cronos'], ['/m/bone_tomahawk'], ['/m/1012515-little_shop_of_horrors']]\n"
     ]
    }
   ],
   "source": [
    "from bs4 import BeautifulSoup\n",
    "import re\n",
    "import time\n",
    "import requests\n",
    "from selenium import webdriver\n",
    "from selenium.common.exceptions import NoSuchElementException\n",
    "import pandas as pd\n",
    "\n",
    "\n",
    "pageLink = 'https://www.rottentomatoes.com/top/bestofrt/top_100_horror_movies/'\n",
    "path = \"/Users/katia/Desktop/chromedriver\"\n",
    "browser = webdriver.Chrome(path)\n",
    "browser.get(pageLink)\n",
    "page_source = browser.page_source\n",
    "soup = BeautifulSoup(page_source, 'lxml')\n",
    "\n",
    "allmovies = soup.findAll('table', {'class': 'table'})\n",
    "\n",
    "movie_list = []\n",
    "for name in allmovies:\n",
    "    for row in name('tr')[1:]:\n",
    "        movie_name = row.find('a', {\"class\":\"unstyled articleLink\"})\n",
    "        movie_name = str(movie_name)\n",
    "        movie_list.append(movie_name)      \n",
    "\n",
    "movieurl = []\n",
    "for x in movie_list:\n",
    "    mname = re.findall('(/m/.+)\">', x)\n",
    "    #print(mname)\n",
    "    movieurl.append(mname)\n",
    "print(movieurl)\n",
    "\n",
    "browser.quit()"
   ]
  },
  {
   "cell_type": "code",
   "execution_count": 2,
   "id": "2447b2b9",
   "metadata": {
    "scrolled": false
   },
   "outputs": [
    {
     "name": "stdout",
     "output_type": "stream",
     "text": [
      "['/m/us_2019', '/m/get_out', '/m/the_cabinet_of_dr_caligari', '/m/a_quiet_place_2018', '/m/the_invisible_man_2020', '/m/nosferatu', '/m/1011615-king_kong', '/m/psycho', '/m/bride_of_frankenstein', '/m/the_babadook', '/m/1007818-frankenstein', '/m/the_lighthouse_2019', '/m/it_follows', '/m/hereditary', '/m/let_the_right_one_in', '/m/freaks', '/m/1009113-halloween', '/m/1000617-aliens', '/m/night_of_the_living_dead', '/m/silence_of_the_lambs', '/m/rosemarys_baby', '/m/eyes_without_a_face_1962', '/m/pans_labyrinth', '/m/repulsion', '/m/host_2020', '/m/possessor_uncut', '/m/the_cabin_in_the_woods', '/m/the_witch_2016', '/m/1010695-invisible_man', '/m/dont_look_now', '/m/it_2017', '/m/relic', '/m/1211532-friends_of_eddie_coyle', '/m/1002448-birds', '/m/young_frankenstein', '/m/ready_or_not_2019', '/m/the_vanishing', '/m/drag_me_to_hell', '/m/a_girl_walks_home_alone_at_night', '/m/godzilla_1956', '/m/1007600-fly', '/m/1010030-house_of_wax', '/m/1006234-dracula', '/m/midsommar', '/m/1003625-carrie', '/m/nosferatu_the_vampyre', '/m/the-evil-dead', '/m/evil_dead_2_dead_by_dawn', '/m/1099622-innocents', '/m/la_llorona_2019', '/m/the_loved_ones_2012', '/m/1007602-fly', '/m/spontaneous', '/m/1005405-dead_of_night', '/m/nightmare_on_elm_street', '/m/1021186-them', '/m/the_love_witch', '/m/harpoon_2019', '/m/room_237_2012', '/m/werckmeister_harmonies', '/m/1020662-suspiria', '/m/reanimator', '/m/shaun_of_the_dead', '/m/train_to_busan', '/m/1010679-invasion_of_the_body_snatchers', '/m/the_host_2007', '/m/1005339-dawn_of_the_dead', '/m/it_comes_at_night', '/m/zombieland', '/m/in_fabric', '/m/dont_breathe_2016', '/m/the_mortuary_collection', '/m/phantom_of_the_opera_1925', '/m/the_endless', '/m/what_ever_happened_to_baby_jane', '/m/cam', '/m/wolf_man', '/m/1021242-thing', '/m/we_are_still_here', '/m/upgrade_2018', '/m/eraserhead', '/m/1021112-texas_chainsaw_massacre', '/m/halloween_2018', '/m/horror_of_dracula', '/m/the_witches', '/m/arachnophobia', '/m/1014370-mummy', '/m/1006207-dr_jekyll_and_mr_hyde', '/m/frankenweenie_2012', '/m/let_me_in', '/m/the_dark_and_the_wicked', '/m/frenzy', '/m/misery', '/m/kwaidan', '/m/island_of_lost_souls_1933', '/m/color_out_of_space', '/m/the_conjuring', '/m/cronos', '/m/bone_tomahawk', '/m/1012515-little_shop_of_horrors']\n"
     ]
    }
   ],
   "source": [
    "flattened = [val for sublist in movieurl for val in sublist]\n",
    "print(flattened)"
   ]
  },
  {
   "cell_type": "code",
   "execution_count": 3,
   "id": "b9b2d875",
   "metadata": {},
   "outputs": [],
   "source": [
    "pageNum = 2"
   ]
  },
  {
   "cell_type": "code",
   "execution_count": 4,
   "id": "32172453",
   "metadata": {
    "scrolled": false
   },
   "outputs": [],
   "source": [
    "urls = []\n",
    "for url in flattened:\n",
    "    pageLink = 'https://www.rottentomatoes.com/'+ url +'/reviews/'\n",
    "    urls.append(pageLink)\n",
    "    "
   ]
  },
  {
   "cell_type": "code",
   "execution_count": 5,
   "id": "6506f049",
   "metadata": {},
   "outputs": [],
   "source": [
    "def check_exists_by_xpath(xpath):\n",
    "    try:\n",
    "        browser.find_element_by_xpath(xpath)\n",
    "    except NoSuchElementException:\n",
    "        return False\n",
    "    return True"
   ]
  },
  {
   "cell_type": "code",
   "execution_count": 8,
   "id": "99e8dc87",
   "metadata": {},
   "outputs": [],
   "source": [
    "testurl = urls\n",
    "#pulling 100 movies is way too long, this is just a smaller set"
   ]
  },
  {
   "cell_type": "code",
   "execution_count": 9,
   "id": "ac92e0a4",
   "metadata": {
    "scrolled": true
   },
   "outputs": [
    {
     "name": "stdout",
     "output_type": "stream",
     "text": [
      "page 1\n",
      "page 2\n",
      "page 1\n",
      "page 2\n",
      "page 1\n",
      "page 2\n",
      "page 1\n",
      "page 2\n",
      "page 1\n",
      "page 2\n",
      "page 1\n",
      "page 2\n",
      "page 1\n",
      "page 2\n",
      "page 1\n",
      "page 2\n",
      "page 1\n",
      "page 2\n",
      "page 1\n",
      "page 2\n",
      "page 1\n",
      "page 2\n",
      "page 1\n",
      "page 2\n",
      "page 1\n",
      "page 2\n",
      "page 1\n",
      "page 2\n",
      "page 1\n",
      "page 2\n",
      "page 1\n",
      "page 2\n",
      "page 1\n",
      "page 2\n",
      "page 1\n",
      "page 2\n",
      "page 1\n",
      "page 2\n",
      "page 1\n",
      "page 2\n",
      "page 1\n",
      "page 2\n",
      "page 1\n",
      "page 2\n",
      "page 1\n",
      "page 2\n",
      "page 1\n",
      "page 2\n",
      "page 1\n",
      "page 2\n",
      "page 1\n",
      "page 2\n",
      "page 1\n",
      "page 2\n",
      "page 1\n",
      "page 2\n",
      "page 1\n",
      "page 2\n",
      "page 1\n",
      "page 2\n",
      "page 1\n",
      "page 2\n",
      "page 1\n",
      "page 2\n",
      "page 1\n",
      "page 2\n",
      "page 1\n",
      "page 2\n",
      "page 1\n",
      "page 2\n",
      "page 1\n",
      "page 2\n",
      "page 1\n",
      "page 2\n",
      "page 1\n",
      "page 2\n",
      "page 1\n",
      "page 2\n",
      "page 1\n",
      "page 2\n",
      "page 1\n",
      "page 2\n",
      "page 1\n",
      "page 2\n",
      "page 1\n",
      "page 2\n",
      "page 1\n",
      "page 2\n",
      "page 1\n",
      "page 2\n",
      "page 1\n",
      "page 2\n",
      "page 1\n",
      "page 2\n",
      "page 1\n",
      "page 2\n",
      "page 1\n",
      "page 2\n",
      "page 1\n",
      "page 2\n",
      "page 1\n",
      "page 2\n",
      "page 1\n",
      "page 2\n",
      "page 1\n",
      "page 2\n",
      "page 1\n",
      "page 2\n",
      "page 1\n",
      "page 2\n",
      "page 1\n",
      "page 2\n",
      "page 1\n",
      "page 2\n",
      "page 1\n",
      "page 2\n",
      "page 1\n",
      "page 2\n",
      "page 1\n",
      "page 2\n",
      "page 1\n",
      "page 2\n",
      "page 1\n",
      "page 2\n",
      "page 1\n",
      "page 2\n",
      "page 1\n",
      "page 2\n",
      "page 1\n",
      "page 2\n",
      "page 1\n",
      "page 2\n",
      "page 1\n",
      "page 2\n",
      "page 1\n",
      "page 2\n",
      "page 1\n",
      "page 2\n",
      "page 1\n",
      "page 2\n",
      "page 1\n",
      "page 2\n",
      "page 1\n",
      "page 2\n",
      "page 1\n",
      "page 2\n",
      "page 1\n",
      "page 2\n",
      "page 1\n",
      "page 2\n",
      "page 1\n",
      "page 2\n",
      "page 1\n",
      "page 2\n",
      "page 1\n",
      "page 2\n",
      "page 1\n",
      "page 2\n",
      "page 1\n",
      "page 2\n",
      "page 1\n",
      "page 2\n",
      "page 1\n",
      "page 2\n",
      "page 1\n",
      "page 2\n",
      "page 1\n",
      "page 2\n",
      "page 1\n",
      "page 2\n",
      "page 1\n",
      "page 2\n",
      "page 1\n",
      "page 2\n",
      "page 1\n",
      "page 2\n",
      "page 1\n",
      "page 2\n",
      "page 1\n",
      "page 2\n",
      "page 1\n",
      "page 2\n",
      "page 1\n",
      "page 2\n",
      "page 1\n",
      "page 2\n",
      "page 1\n",
      "page 2\n",
      "page 1\n",
      "page 2\n",
      "page 1\n",
      "page 2\n",
      "page 1\n",
      "page 2\n",
      "page 1\n",
      "page 2\n",
      "page 1\n",
      "page 2\n",
      "page 1\n",
      "page 2\n"
     ]
    }
   ],
   "source": [
    "with open('katias_scraper.txt','w') as fw:\n",
    "    \n",
    "    browser = webdriver.Chrome(path)\n",
    "\n",
    "    for url in testurl:\n",
    "        browser.get(url)\n",
    "        \n",
    "          \n",
    "        # for each page \n",
    "        for p in range(0,pageNum): \n",
    "                print ('page',p+1)\n",
    "        \n",
    "                # if we got the page parse the html \n",
    "                page_source = browser.page_source\n",
    "                soup = BeautifulSoup(page_source, 'lxml')\n",
    "        \n",
    "                # get all the review divs\n",
    "                reviews=soup.findAll('div', {'class':re.compile('review_table_row')})\n",
    "        \n",
    "                # grab the information for each review\n",
    "                for review in reviews:\n",
    "            \n",
    "                    # initialize critic, rating, source, text, date\n",
    "                    critic,rating,source,text,date='NA','NA','NA','NA','NA'\n",
    "            \n",
    "                    criticChunk=review.find('a',{'href':re.compile('/critics/(.)')})\n",
    "                    if criticChunk: \n",
    "                        critic=criticChunk.text.strip()\n",
    "            \n",
    "                    ratingChunk=review.find('div',{'class':re.compile('review_icon icon small')})\n",
    "                    if ratingChunk:\n",
    "                        new = str(ratingChunk).split()\n",
    "                        x = new[-2]\n",
    "                        rating = x.split('\"')[0]\n",
    "                                                                  \n",
    "                    sourceChunk = review.find('em',{'class':re.compile('subtle critic-publication')})  \n",
    "                    if sourceChunk:\n",
    "                        source = sourceChunk.text.strip()\n",
    "                    #sources.append(source)\n",
    "                \n",
    "                    textChunk = review.find('div',{'class':re.compile('the_review')})          \n",
    "                    if textChunk:\n",
    "                        text = textChunk.text.strip()\n",
    "                \n",
    "                    dateChunk = review.find('div',{'class':re.compile('review-date subtle small')})\n",
    "                    if dateChunk:\n",
    "                        date = dateChunk.text.strip()\n",
    "              \n",
    "            \n",
    "                #write everything to file    \n",
    "                    fw.write(critic+'\\t'+rating+'\\t'+source+'\\t'+text+'\\t'+date+'\\n')\n",
    "        \n",
    "            #moving to next page\n",
    "                if (check_exists_by_xpath('//button[@class=\"js-prev-next-paging-next btn prev-next-paging__button prev-next-paging__button-right\"]')):\n",
    "                    if p < pageNum:\n",
    "                        browser.find_element_by_xpath('//button[@class=\"js-prev-next-paging-next btn prev-next-paging__button prev-next-paging__button-right\"]').click()\n",
    "                        time.sleep(2)\n",
    "        \n",
    "# close the browser\n",
    "browser.quit()"
   ]
  },
  {
   "cell_type": "code",
   "execution_count": 3,
   "id": "e43310f6",
   "metadata": {
    "scrolled": false
   },
   "outputs": [],
   "source": [
    "column_names = ['critic', 'rating', 'source', 'review', 'time']\n",
    "data = pd.read_csv(\"katias_scraper.txt\",sep = \"\\t\",delim_whitespace=False,header=None,names=column_names)\n",
    "\n"
   ]
  },
  {
   "cell_type": "code",
   "execution_count": 7,
   "id": "0193d362",
   "metadata": {},
   "outputs": [
    {
     "data": {
      "text/plain": [
       "'/Users/camillebai/Downloads'"
      ]
     },
     "execution_count": 7,
     "metadata": {},
     "output_type": "execute_result"
    }
   ],
   "source": [
    "pwd"
   ]
  },
  {
   "cell_type": "code",
   "execution_count": 6,
   "id": "ccaf05ea",
   "metadata": {},
   "outputs": [
    {
     "data": {
      "text/html": [
       "<div>\n",
       "<style scoped>\n",
       "    .dataframe tbody tr th:only-of-type {\n",
       "        vertical-align: middle;\n",
       "    }\n",
       "\n",
       "    .dataframe tbody tr th {\n",
       "        vertical-align: top;\n",
       "    }\n",
       "\n",
       "    .dataframe thead th {\n",
       "        text-align: right;\n",
       "    }\n",
       "</style>\n",
       "<table border=\"1\" class=\"dataframe\">\n",
       "  <thead>\n",
       "    <tr style=\"text-align: right;\">\n",
       "      <th></th>\n",
       "      <th>critic</th>\n",
       "      <th>rating</th>\n",
       "      <th>source</th>\n",
       "      <th>review</th>\n",
       "      <th>time</th>\n",
       "    </tr>\n",
       "  </thead>\n",
       "  <tbody>\n",
       "    <tr>\n",
       "      <th>0</th>\n",
       "      <td>Lonita Cook</td>\n",
       "      <td>fresh</td>\n",
       "      <td>KCTV5 News at 9</td>\n",
       "      <td>It grips you immediately.</td>\n",
       "      <td>Sep 30, 2021</td>\n",
       "    </tr>\n",
       "    <tr>\n",
       "      <th>1</th>\n",
       "      <td>Taylor Baker</td>\n",
       "      <td>fresh</td>\n",
       "      <td>Drink in the Movies</td>\n",
       "      <td>Episode 32: Captive State / Pandorum / Mirror ...</td>\n",
       "      <td>Sep 14, 2021</td>\n",
       "    </tr>\n",
       "    <tr>\n",
       "      <th>2</th>\n",
       "      <td>Rick Marshall</td>\n",
       "      <td>fresh</td>\n",
       "      <td>Digital Trends</td>\n",
       "      <td>It doesn't pack the psychological punch of Get...</td>\n",
       "      <td>Jul 13, 2021</td>\n",
       "    </tr>\n",
       "    <tr>\n",
       "      <th>3</th>\n",
       "      <td>Nicolás Delgadillo</td>\n",
       "      <td>fresh</td>\n",
       "      <td>Discussing Film</td>\n",
       "      <td>Similar to his first film, Peele practically d...</td>\n",
       "      <td>Jun 25, 2021</td>\n",
       "    </tr>\n",
       "    <tr>\n",
       "      <th>4</th>\n",
       "      <td>Dan Stubbs</td>\n",
       "      <td>fresh</td>\n",
       "      <td>NME</td>\n",
       "      <td>It's a film that confirms Peele as that rarest...</td>\n",
       "      <td>May 11, 2021</td>\n",
       "    </tr>\n",
       "    <tr>\n",
       "      <th>5</th>\n",
       "      <td>Nick Levine</td>\n",
       "      <td>fresh</td>\n",
       "      <td>NME</td>\n",
       "      <td>Jordan Peele returns with another inventive an...</td>\n",
       "      <td>May 11, 2021</td>\n",
       "    </tr>\n",
       "    <tr>\n",
       "      <th>6</th>\n",
       "      <td>Michael J. Casey</td>\n",
       "      <td>fresh</td>\n",
       "      <td>Michael J. Cinema</td>\n",
       "      <td>There's a messiness here, a beautiful anamorph...</td>\n",
       "      <td>Mar 13, 2021</td>\n",
       "    </tr>\n",
       "    <tr>\n",
       "      <th>7</th>\n",
       "      <td>Cassidy Olsen</td>\n",
       "      <td>fresh</td>\n",
       "      <td>The Improper Bostonian</td>\n",
       "      <td>Us introduces so many ideas that it can be dif...</td>\n",
       "      <td>Mar 8, 2021</td>\n",
       "    </tr>\n",
       "    <tr>\n",
       "      <th>8</th>\n",
       "      <td>Richard Crouse</td>\n",
       "      <td>fresh</td>\n",
       "      <td>Richard Crouse</td>\n",
       "      <td>An outlandish story but the powerful message r...</td>\n",
       "      <td>Mar 4, 2021</td>\n",
       "    </tr>\n",
       "    <tr>\n",
       "      <th>9</th>\n",
       "      <td>Alex Bentley</td>\n",
       "      <td>fresh</td>\n",
       "      <td>CultureMap</td>\n",
       "      <td>While imperfect, Peele and his team get enough...</td>\n",
       "      <td>Feb 18, 2021</td>\n",
       "    </tr>\n",
       "  </tbody>\n",
       "</table>\n",
       "</div>"
      ],
      "text/plain": [
       "               critic rating                  source  \\\n",
       "0         Lonita Cook  fresh         KCTV5 News at 9   \n",
       "1        Taylor Baker  fresh     Drink in the Movies   \n",
       "2       Rick Marshall  fresh          Digital Trends   \n",
       "3  Nicolás Delgadillo  fresh         Discussing Film   \n",
       "4          Dan Stubbs  fresh                     NME   \n",
       "5         Nick Levine  fresh                     NME   \n",
       "6    Michael J. Casey  fresh       Michael J. Cinema   \n",
       "7       Cassidy Olsen  fresh  The Improper Bostonian   \n",
       "8      Richard Crouse  fresh          Richard Crouse   \n",
       "9        Alex Bentley  fresh              CultureMap   \n",
       "\n",
       "                                              review          time  \n",
       "0                          It grips you immediately.  Sep 30, 2021  \n",
       "1  Episode 32: Captive State / Pandorum / Mirror ...  Sep 14, 2021  \n",
       "2  It doesn't pack the psychological punch of Get...  Jul 13, 2021  \n",
       "3  Similar to his first film, Peele practically d...  Jun 25, 2021  \n",
       "4  It's a film that confirms Peele as that rarest...  May 11, 2021  \n",
       "5  Jordan Peele returns with another inventive an...  May 11, 2021  \n",
       "6  There's a messiness here, a beautiful anamorph...  Mar 13, 2021  \n",
       "7  Us introduces so many ideas that it can be dif...   Mar 8, 2021  \n",
       "8  An outlandish story but the powerful message r...   Mar 4, 2021  \n",
       "9  While imperfect, Peele and his team get enough...  Feb 18, 2021  "
      ]
     },
     "execution_count": 6,
     "metadata": {},
     "output_type": "execute_result"
    }
   ],
   "source": [
    "data.head(10)"
   ]
  },
  {
   "cell_type": "code",
   "execution_count": 7,
   "id": "fd4fa948",
   "metadata": {},
   "outputs": [
    {
     "data": {
      "text/html": [
       "<div>\n",
       "<style scoped>\n",
       "    .dataframe tbody tr th:only-of-type {\n",
       "        vertical-align: middle;\n",
       "    }\n",
       "\n",
       "    .dataframe tbody tr th {\n",
       "        vertical-align: top;\n",
       "    }\n",
       "\n",
       "    .dataframe thead th {\n",
       "        text-align: right;\n",
       "    }\n",
       "</style>\n",
       "<table border=\"1\" class=\"dataframe\">\n",
       "  <thead>\n",
       "    <tr style=\"text-align: right;\">\n",
       "      <th></th>\n",
       "      <th>critic</th>\n",
       "      <th>rating</th>\n",
       "      <th>source</th>\n",
       "      <th>review</th>\n",
       "      <th>time</th>\n",
       "    </tr>\n",
       "  </thead>\n",
       "  <tbody>\n",
       "    <tr>\n",
       "      <th>count</th>\n",
       "      <td>4000</td>\n",
       "      <td>4000</td>\n",
       "      <td>4000</td>\n",
       "      <td>3781</td>\n",
       "      <td>4000</td>\n",
       "    </tr>\n",
       "    <tr>\n",
       "      <th>unique</th>\n",
       "      <td>1411</td>\n",
       "      <td>2</td>\n",
       "      <td>888</td>\n",
       "      <td>3777</td>\n",
       "      <td>1921</td>\n",
       "    </tr>\n",
       "    <tr>\n",
       "      <th>top</th>\n",
       "      <td>Mike Massie</td>\n",
       "      <td>fresh</td>\n",
       "      <td>Time Out</td>\n",
       "      <td>Episode 13: Raison D'être</td>\n",
       "      <td>Oct 8, 2020</td>\n",
       "    </tr>\n",
       "    <tr>\n",
       "      <th>freq</th>\n",
       "      <td>49</td>\n",
       "      <td>3704</td>\n",
       "      <td>56</td>\n",
       "      <td>3</td>\n",
       "      <td>45</td>\n",
       "    </tr>\n",
       "  </tbody>\n",
       "</table>\n",
       "</div>"
      ],
      "text/plain": [
       "             critic rating    source                     review         time\n",
       "count          4000   4000      4000                       3781         4000\n",
       "unique         1411      2       888                       3777         1921\n",
       "top     Mike Massie  fresh  Time Out  Episode 13: Raison D'être  Oct 8, 2020\n",
       "freq             49   3704        56                          3           45"
      ]
     },
     "execution_count": 7,
     "metadata": {},
     "output_type": "execute_result"
    }
   ],
   "source": [
    "data.describe()"
   ]
  },
  {
   "cell_type": "code",
   "execution_count": 5,
   "id": "4964fe47",
   "metadata": {},
   "outputs": [],
   "source": [
    "# Import pandas to read in data\n",
    "import numpy as np\n",
    "import pandas as pd\n",
    "\n",
    "# Import models and evaluation functions\n",
    "from sklearn.linear_model import LogisticRegression\n",
    "from sklearn.naive_bayes import BernoulliNB\n",
    "from sklearn import metrics\n",
    "#from sklearn import cross_validation\n",
    "#from sklearn.model_selection import cross_validate\n",
    "from sklearn.model_selection import cross_val_score\n",
    "\n",
    "# Import vectorizers to turn text into numeric\n",
    "from sklearn.feature_extraction.text import CountVectorizer\n",
    "from sklearn.feature_extraction.text import TfidfVectorizer\n",
    "\n",
    "# Import plotting\n",
    "import matplotlib.pylab as plt\n",
    "%matplotlib inline"
   ]
  },
  {
   "cell_type": "code",
   "execution_count": 9,
   "id": "ae2dc15e",
   "metadata": {},
   "outputs": [
    {
     "data": {
      "text/plain": [
       "0                               It grips you immediately.\n",
       "1       Episode 32: Captive State / Pandorum / Mirror ...\n",
       "2       It doesn't pack the psychological punch of Get...\n",
       "3       Similar to his first film, Peele practically d...\n",
       "4       It's a film that confirms Peele as that rarest...\n",
       "                              ...                        \n",
       "3995                                                  NaN\n",
       "3996                   Horror-spoof musical is goofy fun.\n",
       "3997    It takes a little genius to turn a Z-grade Cor...\n",
       "3998      Watered with laughs, sprouting with boppy music\n",
       "3999    The film represents a rare example where Holly...\n",
       "Name: review, Length: 4000, dtype: object"
      ]
     },
     "execution_count": 9,
     "metadata": {},
     "output_type": "execute_result"
    }
   ],
   "source": [
    "X = data[\"review\"]\n",
    "Y = data[\"rating\"]\n",
    "X"
   ]
  },
  {
   "cell_type": "code",
   "execution_count": 10,
   "id": "cb290b7a",
   "metadata": {},
   "outputs": [
    {
     "data": {
      "text/plain": [
       "0                                   It grips immediately.\n",
       "1       Episode 32: Captive State / Pandorum / Mirror ...\n",
       "2       It pack psychological punch Get Out, Us confir...\n",
       "3       Similar first film, Peele practically demands ...\n",
       "4       It's film confirms Peele rarest things - true ...\n",
       "                              ...                        \n",
       "3995                                                  nan\n",
       "3996                      Horror-spoof musical goofy fun.\n",
       "3997    It takes little genius turn Z-grade Corman hor...\n",
       "3998                Watered laughs, sprouting boppy music\n",
       "3999    The film represents rare example Hollywood app...\n",
       "Name: newreview, Length: 4000, dtype: object"
      ]
     },
     "execution_count": 10,
     "metadata": {},
     "output_type": "execute_result"
    }
   ],
   "source": [
    "from nltk.corpus import stopwords\n",
    "stop=set(stopwords.words(\"english\"))\n",
    "\n",
    "data['review'] = data.review.apply(lambda X: np.str_(X))\n",
    "\n",
    "\n",
    "data['newreview'] = data.review.apply(lambda x: ' '.join([word for word in x.split() if word not in(stop)]))\n",
    "\n",
    "XNEW = data['newreview']\n",
    "\n",
    "XNEW\n"
   ]
  },
  {
   "cell_type": "code",
   "execution_count": 12,
   "id": "c445979a",
   "metadata": {},
   "outputs": [
    {
     "data": {
      "text/plain": [
       "<4000x10155 sparse matrix of type '<class 'numpy.int64'>'\n",
       "\twith 50140 stored elements in Compressed Sparse Row format>"
      ]
     },
     "execution_count": 12,
     "metadata": {},
     "output_type": "execute_result"
    }
   ],
   "source": [
    "# Create a vectorizer that will track text as binary features\n",
    "binary_vectorizer = CountVectorizer()\n",
    "\n",
    "# Let the vectorizer learn what tokens exist in the text data\n",
    "binary_vectorizer.fit(XNEW)\n",
    "\n",
    "# Turn these tokens into a numeric matrix\n",
    "X = binary_vectorizer.transform(XNEW)\n",
    "X"
   ]
  },
  {
   "cell_type": "code",
   "execution_count": 13,
   "id": "bfdf0111",
   "metadata": {},
   "outputs": [
    {
     "name": "stdout",
     "output_type": "stream",
     "text": [
      "Accuracy of our classifier is 0.924\n"
     ]
    }
   ],
   "source": [
    "# Create a model\n",
    "logistic_regression = LogisticRegression(max_iter=100000)\n",
    "\n",
    "# Use this model and our data to get 5-fold cross validation\n",
    "\n",
    "from sklearn.model_selection import cross_val_score\n",
    "accs = cross_val_score(logistic_regression, X, Y, scoring=\"accuracy\", cv=5)\n",
    "\n",
    "# Print out the average accuracy rounded to three decimal points\n",
    "print(\"Accuracy of our classifier is \" + str(round(np.mean(accs), 3)))"
   ]
  },
  {
   "cell_type": "code",
   "execution_count": 14,
   "id": "87bdd843",
   "metadata": {},
   "outputs": [
    {
     "name": "stdout",
     "output_type": "stream",
     "text": [
      "Accuracy of our classifier is 0.926\n"
     ]
    }
   ],
   "source": [
    "# Create a vectorizer that will track text as binary features\n",
    "tfidf_vectorizer = TfidfVectorizer()\n",
    "\n",
    "# Let the vectorizer learn what tokens exist in the text data\n",
    "tfidf_vectorizer.fit(XNEW)\n",
    "\n",
    "# Turn these tokens into a numeric matrix\n",
    "X = tfidf_vectorizer.transform(XNEW)\n",
    "\n",
    "# Create a model\n",
    "logistic_regression = LogisticRegression(max_iter=100000)\n",
    "\n",
    "# Use this model and our data to get 5-fold cross validation AUCs\n",
    "aucs = cross_val_score(logistic_regression, X, Y, scoring=\"accuracy\", cv=5)\n",
    "\n",
    "# Print out the average AUC rounded to three decimal points\n",
    "print(\"Accuracy of our classifier is \" + str(round(np.mean(aucs), 3)))"
   ]
  },
  {
   "cell_type": "code",
   "execution_count": 16,
   "id": "9f28816c",
   "metadata": {},
   "outputs": [
    {
     "data": {
      "text/html": [
       "<div>\n",
       "<style scoped>\n",
       "    .dataframe tbody tr th:only-of-type {\n",
       "        vertical-align: middle;\n",
       "    }\n",
       "\n",
       "    .dataframe tbody tr th {\n",
       "        vertical-align: top;\n",
       "    }\n",
       "\n",
       "    .dataframe thead th {\n",
       "        text-align: right;\n",
       "    }\n",
       "</style>\n",
       "<table border=\"1\" class=\"dataframe\">\n",
       "  <thead>\n",
       "    <tr style=\"text-align: right;\">\n",
       "      <th></th>\n",
       "      <th>frequency</th>\n",
       "      <th>bigram/trigram</th>\n",
       "    </tr>\n",
       "  </thead>\n",
       "  <tbody>\n",
       "    <tr>\n",
       "      <th>0</th>\n",
       "      <td>141</td>\n",
       "      <td>full review</td>\n",
       "    </tr>\n",
       "    <tr>\n",
       "      <th>1</th>\n",
       "      <td>139</td>\n",
       "      <td>review spanish</td>\n",
       "    </tr>\n",
       "    <tr>\n",
       "      <th>2</th>\n",
       "      <td>138</td>\n",
       "      <td>full review spanish</td>\n",
       "    </tr>\n",
       "    <tr>\n",
       "      <th>3</th>\n",
       "      <td>108</td>\n",
       "      <td>horror film</td>\n",
       "    </tr>\n",
       "    <tr>\n",
       "      <th>4</th>\n",
       "      <td>67</td>\n",
       "      <td>horror movie</td>\n",
       "    </tr>\n",
       "    <tr>\n",
       "      <th>...</th>\n",
       "      <td>...</td>\n",
       "      <td>...</td>\n",
       "    </tr>\n",
       "    <tr>\n",
       "      <th>82488</th>\n",
       "      <td>1</td>\n",
       "      <td>10 movies</td>\n",
       "    </tr>\n",
       "    <tr>\n",
       "      <th>82489</th>\n",
       "      <td>1</td>\n",
       "      <td>10 best british</td>\n",
       "    </tr>\n",
       "    <tr>\n",
       "      <th>82490</th>\n",
       "      <td>1</td>\n",
       "      <td>10 best</td>\n",
       "    </tr>\n",
       "    <tr>\n",
       "      <th>82491</th>\n",
       "      <td>1</td>\n",
       "      <td>000 shot 20</td>\n",
       "    </tr>\n",
       "    <tr>\n",
       "      <th>82492</th>\n",
       "      <td>1</td>\n",
       "      <td>000 shot</td>\n",
       "    </tr>\n",
       "  </tbody>\n",
       "</table>\n",
       "<p>82493 rows × 2 columns</p>\n",
       "</div>"
      ],
      "text/plain": [
       "       frequency       bigram/trigram\n",
       "0            141          full review\n",
       "1            139       review spanish\n",
       "2            138  full review spanish\n",
       "3            108          horror film\n",
       "4             67         horror movie\n",
       "...          ...                  ...\n",
       "82488          1            10 movies\n",
       "82489          1      10 best british\n",
       "82490          1              10 best\n",
       "82491          1          000 shot 20\n",
       "82492          1             000 shot\n",
       "\n",
       "[82493 rows x 2 columns]"
      ]
     },
     "execution_count": 16,
     "metadata": {},
     "output_type": "execute_result"
    }
   ],
   "source": [
    "c_vec = CountVectorizer(ngram_range=(2,3))\n",
    "# matrix of ngrams\n",
    "ngrams = c_vec.fit_transform(XNEW)\n",
    "# count frequency of ngrams\n",
    "count_values = ngrams.toarray().sum(axis=0)\n",
    "# list of ngrams\n",
    "vocab = c_vec.vocabulary_\n",
    "data_ngram = pd.DataFrame(sorted([(count_values[i],k) for k,i in vocab.items()], reverse=True)).rename(columns={0: 'frequency', 1:'bigram/trigram'})\n",
    "\n",
    "data_ngram"
   ]
  },
  {
   "cell_type": "code",
   "execution_count": 17,
   "id": "8fc446ca",
   "metadata": {},
   "outputs": [
    {
     "name": "stdout",
     "output_type": "stream",
     "text": [
      "Requirement already satisfied: textblob in /Users/camillebai/opt/anaconda3/lib/python3.8/site-packages (0.17.1)\n",
      "Requirement already satisfied: nltk>=3.1 in /Users/camillebai/.local/lib/python3.8/site-packages (from textblob) (3.6.3)\n",
      "Requirement already satisfied: tqdm in /Users/camillebai/opt/anaconda3/lib/python3.8/site-packages (from nltk>=3.1->textblob) (4.59.0)\n",
      "Requirement already satisfied: click in /Users/camillebai/opt/anaconda3/lib/python3.8/site-packages (from nltk>=3.1->textblob) (7.1.2)\n",
      "Requirement already satisfied: regex in /Users/camillebai/opt/anaconda3/lib/python3.8/site-packages (from nltk>=3.1->textblob) (2021.4.4)\n",
      "Requirement already satisfied: joblib in /Users/camillebai/opt/anaconda3/lib/python3.8/site-packages (from nltk>=3.1->textblob) (1.0.1)\n",
      "Note: you may need to restart the kernel to use updated packages.\n",
      "Collecting package metadata (current_repodata.json): done\n",
      "Solving environment: done\n",
      "\n",
      "# All requested packages already installed.\n",
      "\n",
      "\n",
      "Note: you may need to restart the kernel to use updated packages.\n"
     ]
    }
   ],
   "source": [
    "%pip install -U textblob\n",
    "%conda install -c conda-forge textblob\n",
    "\n",
    "from textblob import TextBlob\n"
   ]
  },
  {
   "cell_type": "code",
   "execution_count": 19,
   "id": "afae8b87",
   "metadata": {
    "scrolled": true
   },
   "outputs": [
    {
     "data": {
      "text/html": [
       "<div>\n",
       "<style scoped>\n",
       "    .dataframe tbody tr th:only-of-type {\n",
       "        vertical-align: middle;\n",
       "    }\n",
       "\n",
       "    .dataframe tbody tr th {\n",
       "        vertical-align: top;\n",
       "    }\n",
       "\n",
       "    .dataframe thead th {\n",
       "        text-align: right;\n",
       "    }\n",
       "</style>\n",
       "<table border=\"1\" class=\"dataframe\">\n",
       "  <thead>\n",
       "    <tr style=\"text-align: right;\">\n",
       "      <th></th>\n",
       "      <th>critic</th>\n",
       "      <th>rating</th>\n",
       "      <th>source</th>\n",
       "      <th>review</th>\n",
       "      <th>time</th>\n",
       "      <th>newreview</th>\n",
       "      <th>polarity</th>\n",
       "      <th>subjective</th>\n",
       "    </tr>\n",
       "  </thead>\n",
       "  <tbody>\n",
       "    <tr>\n",
       "      <th>0</th>\n",
       "      <td>Lonita Cook</td>\n",
       "      <td>fresh</td>\n",
       "      <td>KCTV5 News at 9</td>\n",
       "      <td>It grips you immediately.</td>\n",
       "      <td>Sep 30, 2021</td>\n",
       "      <td>It grips immediately.</td>\n",
       "      <td>0.000000</td>\n",
       "      <td>0.000000</td>\n",
       "    </tr>\n",
       "    <tr>\n",
       "      <th>1</th>\n",
       "      <td>Taylor Baker</td>\n",
       "      <td>fresh</td>\n",
       "      <td>Drink in the Movies</td>\n",
       "      <td>Episode 32: Captive State / Pandorum / Mirror ...</td>\n",
       "      <td>Sep 14, 2021</td>\n",
       "      <td>Episode 32: Captive State / Pandorum / Mirror ...</td>\n",
       "      <td>0.200000</td>\n",
       "      <td>0.600000</td>\n",
       "    </tr>\n",
       "    <tr>\n",
       "      <th>2</th>\n",
       "      <td>Rick Marshall</td>\n",
       "      <td>fresh</td>\n",
       "      <td>Digital Trends</td>\n",
       "      <td>It doesn't pack the psychological punch of Get...</td>\n",
       "      <td>Jul 13, 2021</td>\n",
       "      <td>It pack psychological punch Get Out, Us confir...</td>\n",
       "      <td>0.250000</td>\n",
       "      <td>0.300000</td>\n",
       "    </tr>\n",
       "    <tr>\n",
       "      <th>3</th>\n",
       "      <td>Nicolás Delgadillo</td>\n",
       "      <td>fresh</td>\n",
       "      <td>Discussing Film</td>\n",
       "      <td>Similar to his first film, Peele practically d...</td>\n",
       "      <td>Jun 25, 2021</td>\n",
       "      <td>Similar first film, Peele practically demands ...</td>\n",
       "      <td>0.083333</td>\n",
       "      <td>0.244444</td>\n",
       "    </tr>\n",
       "    <tr>\n",
       "      <th>4</th>\n",
       "      <td>Dan Stubbs</td>\n",
       "      <td>fresh</td>\n",
       "      <td>NME</td>\n",
       "      <td>It's a film that confirms Peele as that rarest...</td>\n",
       "      <td>May 11, 2021</td>\n",
       "      <td>It's film confirms Peele rarest things - true ...</td>\n",
       "      <td>0.350000</td>\n",
       "      <td>0.650000</td>\n",
       "    </tr>\n",
       "    <tr>\n",
       "      <th>...</th>\n",
       "      <td>...</td>\n",
       "      <td>...</td>\n",
       "      <td>...</td>\n",
       "      <td>...</td>\n",
       "      <td>...</td>\n",
       "      <td>...</td>\n",
       "      <td>...</td>\n",
       "      <td>...</td>\n",
       "    </tr>\n",
       "    <tr>\n",
       "      <th>3995</th>\n",
       "      <td>Philip Martin</td>\n",
       "      <td>fresh</td>\n",
       "      <td>Arkansas Democrat-Gazette</td>\n",
       "      <td>nan</td>\n",
       "      <td>Feb 28, 2003</td>\n",
       "      <td>nan</td>\n",
       "      <td>0.000000</td>\n",
       "      <td>0.000000</td>\n",
       "    </tr>\n",
       "    <tr>\n",
       "      <th>3996</th>\n",
       "      <td>James Rocchi</td>\n",
       "      <td>fresh</td>\n",
       "      <td>Netflix</td>\n",
       "      <td>Horror-spoof musical is goofy fun.</td>\n",
       "      <td>Nov 7, 2002</td>\n",
       "      <td>Horror-spoof musical goofy fun.</td>\n",
       "      <td>0.266667</td>\n",
       "      <td>0.400000</td>\n",
       "    </tr>\n",
       "    <tr>\n",
       "      <th>3997</th>\n",
       "      <td>Rob Vaux</td>\n",
       "      <td>fresh</td>\n",
       "      <td>Flipside Movie Emporium</td>\n",
       "      <td>It takes a little genius to turn a Z-grade Cor...</td>\n",
       "      <td>Oct 15, 2002</td>\n",
       "      <td>It takes little genius turn Z-grade Corman hor...</td>\n",
       "      <td>-0.093750</td>\n",
       "      <td>0.275000</td>\n",
       "    </tr>\n",
       "    <tr>\n",
       "      <th>3998</th>\n",
       "      <td>Caffeinated Clint</td>\n",
       "      <td>fresh</td>\n",
       "      <td>Moviehole</td>\n",
       "      <td>Watered with laughs, sprouting with boppy music</td>\n",
       "      <td>Sep 17, 2002</td>\n",
       "      <td>Watered laughs, sprouting boppy music</td>\n",
       "      <td>0.000000</td>\n",
       "      <td>0.000000</td>\n",
       "    </tr>\n",
       "    <tr>\n",
       "      <th>3999</th>\n",
       "      <td>Jeremy Heilman</td>\n",
       "      <td>fresh</td>\n",
       "      <td>MovieMartyr.com</td>\n",
       "      <td>The film represents a rare example where Holly...</td>\n",
       "      <td>Aug 2, 2002</td>\n",
       "      <td>The film represents rare example Hollywood app...</td>\n",
       "      <td>0.400000</td>\n",
       "      <td>0.950000</td>\n",
       "    </tr>\n",
       "  </tbody>\n",
       "</table>\n",
       "<p>4000 rows × 8 columns</p>\n",
       "</div>"
      ],
      "text/plain": [
       "                  critic rating                     source  \\\n",
       "0            Lonita Cook  fresh            KCTV5 News at 9   \n",
       "1           Taylor Baker  fresh        Drink in the Movies   \n",
       "2          Rick Marshall  fresh             Digital Trends   \n",
       "3     Nicolás Delgadillo  fresh            Discussing Film   \n",
       "4             Dan Stubbs  fresh                        NME   \n",
       "...                  ...    ...                        ...   \n",
       "3995       Philip Martin  fresh  Arkansas Democrat-Gazette   \n",
       "3996        James Rocchi  fresh                    Netflix   \n",
       "3997            Rob Vaux  fresh    Flipside Movie Emporium   \n",
       "3998   Caffeinated Clint  fresh                  Moviehole   \n",
       "3999      Jeremy Heilman  fresh            MovieMartyr.com   \n",
       "\n",
       "                                                 review          time  \\\n",
       "0                             It grips you immediately.  Sep 30, 2021   \n",
       "1     Episode 32: Captive State / Pandorum / Mirror ...  Sep 14, 2021   \n",
       "2     It doesn't pack the psychological punch of Get...  Jul 13, 2021   \n",
       "3     Similar to his first film, Peele practically d...  Jun 25, 2021   \n",
       "4     It's a film that confirms Peele as that rarest...  May 11, 2021   \n",
       "...                                                 ...           ...   \n",
       "3995                                                nan  Feb 28, 2003   \n",
       "3996                 Horror-spoof musical is goofy fun.   Nov 7, 2002   \n",
       "3997  It takes a little genius to turn a Z-grade Cor...  Oct 15, 2002   \n",
       "3998    Watered with laughs, sprouting with boppy music  Sep 17, 2002   \n",
       "3999  The film represents a rare example where Holly...   Aug 2, 2002   \n",
       "\n",
       "                                              newreview  polarity  subjective  \n",
       "0                                 It grips immediately.  0.000000    0.000000  \n",
       "1     Episode 32: Captive State / Pandorum / Mirror ...  0.200000    0.600000  \n",
       "2     It pack psychological punch Get Out, Us confir...  0.250000    0.300000  \n",
       "3     Similar first film, Peele practically demands ...  0.083333    0.244444  \n",
       "4     It's film confirms Peele rarest things - true ...  0.350000    0.650000  \n",
       "...                                                 ...       ...         ...  \n",
       "3995                                                nan  0.000000    0.000000  \n",
       "3996                    Horror-spoof musical goofy fun.  0.266667    0.400000  \n",
       "3997  It takes little genius turn Z-grade Corman hor... -0.093750    0.275000  \n",
       "3998              Watered laughs, sprouting boppy music  0.000000    0.000000  \n",
       "3999  The film represents rare example Hollywood app...  0.400000    0.950000  \n",
       "\n",
       "[4000 rows x 8 columns]"
      ]
     },
     "execution_count": 19,
     "metadata": {},
     "output_type": "execute_result"
    }
   ],
   "source": [
    "data['polarity'] = XNEW.apply(lambda x: TextBlob(x).polarity)\n",
    "data['subjective'] = XNEW.apply(lambda x: TextBlob(x).subjectivity)\n",
    "data"
   ]
  },
  {
   "cell_type": "markdown",
   "id": "abfe4180",
   "metadata": {},
   "source": [
    "# to check polarity and\tsubjective against rating visualization"
   ]
  },
  {
   "cell_type": "code",
   "execution_count": 33,
   "id": "c77b0d48",
   "metadata": {},
   "outputs": [],
   "source": [
    "plottry = data.loc[1:100]"
   ]
  },
  {
   "cell_type": "code",
   "execution_count": 34,
   "id": "b1e18010",
   "metadata": {},
   "outputs": [
    {
     "data": {
      "text/plain": [
       "<AxesSubplot:xlabel='subjective', ylabel='rating'>"
      ]
     },
     "execution_count": 34,
     "metadata": {},
     "output_type": "execute_result"
    },
    {
     "data": {
      "image/png": "[encoded data removed]",
      "text/plain": [
       "<Figure size 432x288 with 1 Axes>"
      ]
     },
     "metadata": {
      "needs_background": "light"
     },
     "output_type": "display_data"
    }
   ],
   "source": [
    "plottry.plot(kind=\"scatter\", x=\"subjective\", c = 'forestgreen', y=\"rating\")"
   ]
  },
  {
   "cell_type": "code",
   "execution_count": 35,
   "id": "09357d5b",
   "metadata": {},
   "outputs": [
    {
     "data": {
      "text/plain": [
       "<AxesSubplot:xlabel='polarity', ylabel='rating'>"
      ]
     },
     "execution_count": 35,
     "metadata": {},
     "output_type": "execute_result"
    },
    {
     "data": {
      "image/png": "[encoded data removed]",
      "text/plain": [
       "<Figure size 432x288 with 1 Axes>"
      ]
     },
     "metadata": {
      "needs_background": "light"
     },
     "output_type": "display_data"
    }
   ],
   "source": [
    "plottry.plot(kind=\"scatter\", x=\"polarity\", c = 'forestgreen', y=\"rating\")"
   ]
  },
  {
   "cell_type": "code",
   "execution_count": 36,
   "id": "384f8b4a",
   "metadata": {},
   "outputs": [
    {
     "data": {
      "text/plain": [
       "array([<AxesSubplot:title={'center':'polarity'}, xlabel='rating'>,\n",
       "       <AxesSubplot:title={'center':'subjective'}, xlabel='rating'>],\n",
       "      dtype=object)"
      ]
     },
     "execution_count": 36,
     "metadata": {},
     "output_type": "execute_result"
    },
    {
     "data": {
      "image/png": "[encoded data removed]",
      "text/plain": [
       "<Figure size 1440x360 with 2 Axes>"
      ]
     },
     "metadata": {
      "needs_background": "light"
     },
     "output_type": "display_data"
    }
   ],
   "source": [
    "plottry.plot( x = \"rating\", kind = \"bar\", figsize = (20,5), subplots=True)"
   ]
  }
 ],
 "metadata": {
  "kernelspec": {
   "display_name": "Python 3",
   "language": "python",
   "name": "python3"
  },
  "language_info": {
   "codemirror_mode": {
    "name": "ipython",
    "version": 3
   },
   "file_extension": ".py",
   "mimetype": "text/x-python",
   "name": "python",
   "nbconvert_exporter": "python",
   "pygments_lexer": "ipython3",
   "version": "3.8.8"
  }
 },
 "nbformat": 4,
 "nbformat_minor": 5
}
